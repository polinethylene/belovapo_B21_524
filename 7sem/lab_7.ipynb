{
 "cells": [
  {
   "cell_type": "code",
   "execution_count": 3,
   "metadata": {},
   "outputs": [],
   "source": [
    "import numpy as np\n",
    "import cv2\n",
    "import os\n",
    "# from PIL import Image\n",
    "import matplotlib.pyplot as plt\n",
    "import csv"
   ]
  },
  {
   "cell_type": "markdown",
   "metadata": {},
   "source": [
    "Турецкие строчные буквы - abcçdefgğhiıjklmnoöprsştüvyz "
   ]
  },
  {
   "cell_type": "code",
   "execution_count": 4,
   "metadata": {},
   "outputs": [],
   "source": [
    "class FeatureExtractor:\n",
    "    def __init__(self):\n",
    "        pass\n",
    "    \n",
    "    def show(self, im):\n",
    "        plt.imshow(im)\n",
    "        plt.axis('off') \n",
    "        plt.show()\n",
    "\n",
    "    def calc_raw_moment(self,img,x1=0,x2=-1,y1=0,y2=-1,p=0,q=0):\n",
    "        if y2<0:\n",
    "            y2=img.shape[0]\n",
    "        if x2<0:\n",
    "            x2=img.shape[1]\n",
    "        rm = 0\n",
    "        for y in range(y1,y2):\n",
    "            for x in range(x1,x2):\n",
    "                rm += x**p * y**q * img[x,y]\n",
    "        return rm\n",
    "\n",
    "    def calc_weight(self, img,x1,x2,y1,y2):\n",
    "        return self.calc_raw_moment(img,x1,x2,y1,y2,0,0)\n",
    "    \n",
    "    def calc_rel_weight(self, img,x1,x2,y1,y2):\n",
    "        h = x2-x1\n",
    "        w = y2-y1\n",
    "        return self.calc_raw_moment(img,x1,x2,y1,y2,0,0) / (h*w)\n",
    "    \n",
    "    def calc_center(self,img):\n",
    "        H, W = img.shape[0], img.shape[1]\n",
    "        weight = self.calc_raw_moment(img,0,H,0,W)\n",
    "        return [self.calc_raw_moment(img,0,H,0,W,1,0)/weight,\n",
    "                self.calc_raw_moment(img,0,H,0,W,0,1)/weight]\n",
    "\n",
    "    def calc_inertia_moment(self,img):\n",
    "        xc,yc = self.calc_center(img)\n",
    "        xim = 0\n",
    "        yim = 0\n",
    "        for x in range(img.shape[0]):\n",
    "            for y in range(img.shape[1]):\n",
    "                xim += (y - yc) ** 2 * img[x, y]\n",
    "                yim += (x - xc) ** 2 * img[x, y]\n",
    "        return [xim,yim]\n",
    "    \n",
    "    def calc_rel_inertia_moment(self,img):\n",
    "        im = self.calc_inertia_moment(img)\n",
    "        return im / (img.shape[0]**2 * img.shape[1]**2)\n",
    "\n",
    "    def get_features(self,image):\n",
    "        _, img = cv2.threshold(image, 100, 1, cv2.THRESH_BINARY_INV)\n",
    "        H, W = img.shape[0], img.shape[1]\n",
    "        areas = [(H//2) * (W//2),   (H//2)*(W-W//2), \n",
    "                 (H-H//2) * (W//2), (H-H//2) * (W-W//2)]\n",
    "        weights = [self.calc_weight(img, 0, H//2, 0, W//2), \n",
    "                   self.calc_weight(img, 0, H//2, W//2, W),\n",
    "                   self.calc_weight(img, H//2, H, 0, W//2),\n",
    "                   self.calc_weight(img, H//2, H, W//2, W),]\n",
    "        weight = self.calc_weight(img, 0, H, 0, W)\n",
    "        weights_rel = [weights[0]/areas[0],\n",
    "                       weights[1]/areas[1],\n",
    "                       weights[2]/areas[2],\n",
    "                       weights[3]/areas[3]]\n",
    "        weight_rel = weight / (H*W)\n",
    "        center = self.calc_center(img)\n",
    "        center_rel = [(center[0]-1)/(H-1), (center[1]-1)/(W-1)]\n",
    "        inertia = self.calc_inertia_moment(img)\n",
    "        inertia_rel = np.divide(inertia, H**2 * W**2)\n",
    "\n",
    "        features = {\n",
    "            \"weight\": weight,\n",
    "            \"rel_weight\": weight_rel,\n",
    "            \"weights\" : weights,\n",
    "            \"rel_weights\" : weights_rel,\n",
    "            \"center\" : center,\n",
    "            \"center_norm\" : center_rel,\n",
    "            \"inertia_hor\" : inertia[0],\n",
    "            \"inertia_vert\" : inertia[1],\n",
    "            \"inertia_hor_norm\" : inertia_rel[0],\n",
    "            \"inertia_vert_norm\" : inertia_rel[1],\n",
    "        }\n",
    "\n",
    "        return features"
   ]
  },
  {
   "cell_type": "code",
   "execution_count": 18,
   "metadata": {},
   "outputs": [],
   "source": [
    "class Classification:\n",
    "    def __init__(self, output_path, csv_path):\n",
    "        self.output_path = output_path\n",
    "        self.csv_path = csv_path\n",
    "\n",
    "    def euclidean_distance(self, v1, v2):\n",
    "        v1 = np.array(v1, dtype=np.float32)\n",
    "        v2 = np.array(v2, dtype=np.float32)\n",
    "        \n",
    "        distance = np.sqrt(np.sum((v1 - v2)**2))\n",
    "        return distance\n",
    "    \n",
    "    def get_coords(self, profile):\n",
    "        left = None\n",
    "        sym = []\n",
    "        for i in range(len(profile)):\n",
    "            if profile[i] > 0 and left is None:\n",
    "                left = i\n",
    "            elif profile[i] == 0 and left is not None:\n",
    "                sym.append((left, i))\n",
    "                left = None\n",
    "        if left is not None:\n",
    "            sym.append((left, len(profile)))\n",
    "        return sym\n",
    "\n",
    "    def get_segments(self, image):\n",
    "        _, img = cv2.threshold(image, 100, 1, cv2.THRESH_BINARY_INV)\n",
    "        H, W = img.shape[0], img.shape[1]\n",
    "        print(H,W)\n",
    "\n",
    "        V_profile = np.sum(img, axis=0)\n",
    "\n",
    "        sym = self.get_coords(V_profile)\n",
    "\n",
    "        boxes = []\n",
    "        for s in sym:\n",
    "            s_profile = np.sum(img[:,s[0]:s[1]], axis=1)\n",
    "            coords = self.get_coords(s_profile)\n",
    "            start, end = coords[0][0], coords[-1][-1]\n",
    "            boxes.append((s[0], start, s[1], end))\n",
    "\n",
    "        w = (boxes[0][2]-boxes[0][0])/2\n",
    "        spaces = []\n",
    "        for i in range(len(boxes)-1):\n",
    "            if (boxes[i+1][0] - boxes[i][2]) > w:\n",
    "                spaces.append(i)\n",
    "    \n",
    "        return spaces, boxes\n",
    "        \n",
    "    def draw_segments(self):\n",
    "        for name, img in self.data.items():\n",
    "            boxes = self.get_segments(img,name)\n",
    "            rgb_img = cv2.cvtColor(img,cv2.COLOR_GRAY2RGB)\n",
    "            for b in boxes:\n",
    "                cv2.rectangle(rgb_img,(b[0],b[1]),(b[2],b[3]),(0,255,0),1)\n",
    "            filename = os.path.join(self.output_path, name)\n",
    "            cv2.imwrite(filename, rgb_img)\n",
    "\n",
    "    def save_csv(self, dist, name):\n",
    "        filename = os.path.join(self.output_path, name+\".csv\")\n",
    "        with open(filename, 'w') as f: \n",
    "            id = 0\n",
    "            w = csv.writer(f)\n",
    "            for sym in dist:\n",
    "                data = [id]\n",
    "                data.extend(sym)\n",
    "                w.writerow(data)\n",
    "                id+=1\n",
    "\n",
    "    def get_symbols(self, image, name):\n",
    "        spaces, boxes = self.get_segments(image)\n",
    "        syms = {}\n",
    "        for filename in os.listdir(self.csv_path):\n",
    "            if filename.endswith('csv'):\n",
    "                data = {}\n",
    "                path = os.path.join(self.csv_path, filename)\n",
    "                with open(path, 'r') as file:\n",
    "                    reader = csv.reader(file)\n",
    "                    header = next(reader) \n",
    "                    content = next(reader)  \n",
    "                    \n",
    "                    for key, value in zip(header, content):\n",
    "                        data[key] = value\n",
    "                syms[filename[:-4]] = data\n",
    "\n",
    "        agent = FeatureExtractor()\n",
    "        sentence = {}\n",
    "        id = 0\n",
    "        for b in boxes:\n",
    "            img = image[b[1]:b[3],b[0]:b[2]]\n",
    "            f = agent.get_features(img)\n",
    "            sentence[id] = f\n",
    "            id+=1\n",
    "\n",
    "        distances = []\n",
    "        for _, l in sentence.items():\n",
    "            line = []\n",
    "            for letter, s in syms.items():\n",
    "                v1 = [l['rel_weight'], l['center_norm'][0], l['center_norm'][1], l['inertia_hor_norm'], l['inertia_vert_norm']]\n",
    "                v2 = [s['rel_weight'], s['center_norm'][1:-1].split(\",\")[0], s['center_norm'][1:-1].split(\",\")[1], s['inertia_hor_norm'], s['inertia_vert_norm']]\n",
    "                dist = self.euclidean_distance(v1,v2)\n",
    "                line.append((letter,dist))\n",
    "            maxdist = max(l[1] for l in line)\n",
    "            prox = [(x[0],1-x[1]/maxdist) for x in line]\n",
    "            prox.sort(key=lambda x: x[1], reverse=True)\n",
    "            distances.append(prox)\n",
    "\n",
    "        self.save_csv(distances, name)\n",
    "\n",
    "        return spaces, distances"
   ]
  },
  {
   "cell_type": "code",
   "execution_count": 20,
   "metadata": {},
   "outputs": [
    {
     "name": "stdout",
     "output_type": "stream",
     "text": [
      "332 9574\n"
     ]
    }
   ],
   "source": [
    "agent = Classification( \"./output\", \"./input/csv\")\n",
    "im = cv2.imread('./input/gray_byron_orig.bmp', cv2.IMREAD_GRAYSCALE)\n",
    "spaces, dist = agent.get_symbols(im,'gray_byron_orig')"
   ]
  },
  {
   "cell_type": "code",
   "execution_count": 21,
   "metadata": {},
   "outputs": [
    {
     "data": {
      "text/plain": [
       "[('g', 0.9635982103645802),\n",
       " ('o', 0.9622351266443729),\n",
       " ('s', 0.9607423841953278),\n",
       " ('z', 0.9527043253183365),\n",
       " ('ğ', 0.9487796686589718),\n",
       " ('e', 0.9341964945197105),\n",
       " ('t', 0.9213654771447182),\n",
       " ('ö', 0.9163720980286598),\n",
       " ('h', 0.9161309972405434),\n",
       " ('n', 0.9080658555030823),\n",
       " ('ş', 0.9074360206723213),\n",
       " ('ü', 0.9005026370286942),\n",
       " ('b', 0.900222435593605),\n",
       " ('c', 0.8907252475619316),\n",
       " ('m', 0.8873843401670456),\n",
       " ('v', 0.8858337998390198),\n",
       " ('a', 0.8842291086912155),\n",
       " ('ç', 0.8761637881398201),\n",
       " ('d', 0.8735093027353287),\n",
       " ('p', 0.8590559363365173),\n",
       " ('y', 0.8471681028604507),\n",
       " ('f', 0.8374198526144028),\n",
       " (',', 0.8256691992282867),\n",
       " ('k', 0.8202211856842041),\n",
       " ('r', 0.7295481264591217),\n",
       " ('j', 0.7226499915122986),\n",
       " ('i', 0.46077847480773926),\n",
       " ('ı', 0.33487653732299805),\n",
       " ('l', 0.0)]"
      ]
     },
     "execution_count": 21,
     "metadata": {},
     "output_type": "execute_result"
    }
   ],
   "source": [
    "dist[0]"
   ]
  },
  {
   "cell_type": "code",
   "execution_count": 22,
   "metadata": {},
   "outputs": [
    {
     "name": "stdout",
     "output_type": "stream",
     "text": [
      "adamı daha az sevmiyorum, ama doğa'yı daha çok seviyorum\n",
      "gdgmı dghg gz oevmiyorom, gmg dozgıyı dgho fok oeviyorsm\n",
      " 0.6458333333333334\n"
     ]
    }
   ],
   "source": [
    "sentence = (\"a d a m ı d a h a a z s e v m i y o r u m , a m a d o ğ a ' y ı d a h a ç o k s e v i y o r u m\").split(\" \")\n",
    "print(\"adamı daha az sevmiyorum, ama doğa'yı daha çok seviyorum\")\n",
    "sum = 0\n",
    "for i in range(len(dist)):\n",
    "    print(dist[i][0][0], end=\"\")\n",
    "    sum += (dist[i][0][0] == sentence[i])\n",
    "    if i in spaces:\n",
    "        print(\" \", end=\"\")\n",
    "print(\"\\n\", sum/len(dist))"
   ]
  },
  {
   "cell_type": "code",
   "execution_count": 24,
   "metadata": {},
   "outputs": [
    {
     "name": "stdout",
     "output_type": "stream",
     "text": [
      "49 1413\n"
     ]
    },
    {
     "data": {
      "image/png": "[encoded data removed]",
      "text/plain": [
       "<Figure size 432x288 with 1 Axes>"
      ]
     },
     "metadata": {
      "needs_background": "light"
     },
     "output_type": "display_data"
    }
   ],
   "source": [
    "im = cv2.imread('./input/gray_byron.bmp', cv2.IMREAD_GRAYSCALE)\n",
    "boxes = agent.get_segments(im, 'gray_byron.bmp') \n",
    "b = boxes[15]\n",
    "plt.imshow(im[b[1]:b[3],b[0]:b[2]], cmap='gray')\n",
    "plt.axis('off') \n",
    "plt.show()"
   ]
  },
  {
   "cell_type": "code",
   "execution_count": null,
   "metadata": {},
   "outputs": [],
   "source": []
  }
 ],
 "metadata": {
  "kernelspec": {
   "display_name": "Python 3",
   "language": "python",
   "name": "python3"
  },
  "language_info": {
   "codemirror_mode": {
    "name": "ipython",
    "version": 3
   },
   "file_extension": ".py",
   "mimetype": "text/x-python",
   "name": "python",
   "nbconvert_exporter": "python",
   "pygments_lexer": "ipython3",
   "version": "3.9.14"
  }
 },
 "nbformat": 4,
 "nbformat_minor": 2
}
