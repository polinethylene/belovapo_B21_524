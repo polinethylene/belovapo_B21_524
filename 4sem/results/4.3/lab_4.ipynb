{
 "cells": [
  {
   "cell_type": "code",
   "execution_count": 3,
   "metadata": {},
   "outputs": [],
   "source": [
    "import numpy as np\n",
    "import os\n",
    "from PIL import Image"
   ]
  },
  {
   "cell_type": "markdown",
   "metadata": {},
   "source": [
    "## #3 Оператор Собеля 3x3 "
   ]
  },
  {
   "cell_type": "code",
   "execution_count": 15,
   "metadata": {},
   "outputs": [],
   "source": [
    "class Contour:\n",
    "    def __init__(self, input_array, output_path):\n",
    "        self.data = {}\n",
    "        self.output_path = output_path\n",
    "        self.load_img(input_array, True)\n",
    "        self.Gx = np.array([[-1.0, -2.0, -1.0], [0.0, 0.0, 0.0], [1.0, 2.0, 1.0]])\n",
    "        self.Gy = np.array([[-1.0, 0.0, 1.0], [-2.0, 0.0, 2.0], [-1.0, 0.0, 1.0]])\n",
    "\n",
    "    def load_img(self, path, is_folder):\n",
    "        if is_folder:\n",
    "            for filename in os.listdir(path):\n",
    "                if filename.endswith(('.png', '.bmp')):\n",
    "                    image_path = os.path.join(path, filename)\n",
    "                    self.data[filename] = Image.open(image_path)\n",
    "        else:\n",
    "            self.data[os.path.basename(path)] = Image.open(path)\n",
    "\n",
    "    def show_img(self):\n",
    "        for img in self.data:\n",
    "            img.show()\n",
    "\n",
    "    def grayScale(self, np_img):\n",
    "        return np.uint8(0.3 * np_img[:, :, 0] + 0.59 * np_img[:, :, 1] + 0.11 * np_img[:, :, 2])\n",
    "    \n",
    "    def contour_detection(self, name, np_img, output_path, thr):\n",
    "        print(\"Processing image \"+name)\n",
    "        padded_img = np.pad(np_img, 1, mode='constant', constant_values=255)\n",
    "        G = np.zeros_like(np_img)\n",
    "        Gx_ = np.zeros_like(np_img, dtype=float)\n",
    "        Gy_ = np.zeros_like(np_img, dtype=float)\n",
    "\n",
    "        H, W = padded_img.shape\n",
    "        for i in range(H - 2):\n",
    "            for j in range(W - 2):\n",
    "                gx = np.sum(np.multiply(self.Gx, padded_img[i:i + 3, j:j + 3])) \n",
    "                gy = np.sum(np.multiply(self.Gy, padded_img[i:i + 3, j:j + 3])) \n",
    "                Gx_[i,j] = gx\n",
    "                Gy_[i,j] = gy\n",
    "                G[i, j] = np.sqrt(gx ** 2 + gy ** 2)  \n",
    "        \n",
    "        G_n = (G * (255.0/G.max())).astype(np.uint8)\n",
    "        gx_n = (Gx_ * (255.0/Gx_.max())).astype(np.uint8)\n",
    "        gy_n= (Gy_ * (255.0/Gy_.max())).astype(np.uint8)\n",
    "        \n",
    "        output_image = Image.fromarray(G_n)\n",
    "        output_image.save(output_path+\"/\"+\"g_\"+name)\n",
    "        output_image = Image.fromarray(gx_n)\n",
    "        output_image.save(output_path+\"/\"+\"gx_\"+name)\n",
    "        output_image = Image.fromarray(gy_n.astype(np.uint8))\n",
    "        output_image.save(output_path+\"/\"+\"gy_\"+name)\n",
    "        res_image = np.where(G > thr, 255, 0)\n",
    "        output_image = Image.fromarray(res_image.astype(np.uint8))\n",
    "        output_image.save(output_path+\"/\"+name)\n",
    "\n",
    "    def contour_detection_array(self, thr):\n",
    "        for name, img in self.data.items():\n",
    "            np_img = np.array(img)\n",
    "            gray_img = self.grayScale(np_img)\n",
    "            output_image = Image.fromarray(gray_img)\n",
    "            output_image.save(self.output_path+\"/\"+\"gray\"+name)\n",
    "            self.contour_detection(name, gray_img, self.output_path,thr)"
   ]
  },
  {
   "cell_type": "code",
   "execution_count": 16,
   "metadata": {},
   "outputs": [
    {
     "name": "stdout",
     "output_type": "stream",
     "text": [
      "Processing image plant.png\n",
      "Processing image towelie.png\n",
      "Processing image bricks.png\n",
      "Processing image map.png\n"
     ]
    }
   ],
   "source": [
    "input_path = \"input\"\n",
    "output_path = \"output\"\n",
    "thr = 120\n",
    "\n",
    "agent = Contour(input_path, output_path)\n",
    "agent.contour_detection_array(thr)"
   ]
  },
  {
   "cell_type": "code",
   "execution_count": null,
   "metadata": {},
   "outputs": [],
   "source": []
  }
 ],
 "metadata": {
  "kernelspec": {
   "display_name": "Python 3",
   "language": "python",
   "name": "python3"
  },
  "language_info": {
   "codemirror_mode": {
    "name": "ipython",
    "version": 3
   },
   "file_extension": ".py",
   "mimetype": "text/x-python",
   "name": "python",
   "nbconvert_exporter": "python",
   "pygments_lexer": "ipython3",
   "version": "3.9.14"
  }
 },
 "nbformat": 4,
 "nbformat_minor": 2
}
