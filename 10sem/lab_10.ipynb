{
 "cells": [
  {
   "cell_type": "code",
   "execution_count": 3,
   "metadata": {},
   "outputs": [],
   "source": [
    "from scipy import signal\n",
    "from scipy.io import wavfile\n",
    "from scipy.ndimage import maximum_filter\n",
    "import matplotlib.pyplot as plt\n",
    "import numpy as np\n",
    "import os\n",
    "import librosa"
   ]
  },
  {
   "cell_type": "code",
   "execution_count": 24,
   "metadata": {},
   "outputs": [],
   "source": [
    "class VoiceAnalysis:\n",
    "    def __init__(self, filename, input_path, output_path):\n",
    "        self.output_path = output_path\n",
    "        self.filename = filename\n",
    "        self.input_path = input_path\n",
    "        if input_path.endswith(('.wav')):\n",
    "            self.data, self.rate = librosa.load(input_path, sr=None)\n",
    "\n",
    "    def plot_spectrogram(self):\n",
    "        freq, time, spect= signal.spectrogram(self.data, self.rate, scaling='spectrum', window='hann')\n",
    "        log_spec = np.log10(spect+(spect==0))\n",
    "        plt.pcolormesh(time, freq, log_spec, shading='gouraud')\n",
    "        plt.savefig(self.output_path+self.filename+\"_spectr.png\", dpi = 300)\n",
    "        plt.clf()\n",
    "\n",
    "    def find_features(self):\n",
    "        stft = np.abs(librosa.stft(self.data))\n",
    "        db = librosa.amplitude_to_db(stft, ref=np.max)\n",
    "        freqs = librosa.fft_frequencies(sr=self.rate)\n",
    "        means = np.mean(db, axis=1)\n",
    "\n",
    "        id1 = np.argmax(means > -80)\n",
    "        id2 = len(means) - np.argmax(means[::-1] > -80) - 1\n",
    "\n",
    "        print(f\"Min freq: {freqs[id1]}, Max freq: {freqs[id2]}\")\n",
    "    \n",
    "        chroma = librosa.feature.chroma_stft(y=self.data, sr=self.rate)\n",
    "        f = librosa.piptrack(y=self.data, sr=self.rate, S=chroma)[0]\n",
    "        main_freq = np.argmax(f)\n",
    "        print(f\"Main tone: {main_freq}\")\n",
    "\n",
    "        self.rate, self.data = wavfile.read(self.input_path)\n",
    "        freq, t, spect = signal.spectrogram(self.data, self.rate, window=('hann'))\n",
    "        spect = np.log10(spect + 1)\n",
    "        filter = maximum_filter(spect, size=(int(50 / (freq[1] - freq[0])), int(0.1 * len(t))))\n",
    "        mask = (spect == filter)\n",
    "        peak_vals = spect[mask]\n",
    "        peak_freqs = freq[mask.any(axis=1)]\n",
    "\n",
    "        top_ids = np.argsort(peak_vals)[-3:]\n",
    "        formants = peak_freqs[top_ids]\n",
    "\n",
    "        print(\"Three strongest formants: \")\n",
    "        for f in formants:\n",
    "            print(f, end=\" \")\n",
    "    "
   ]
  },
  {
   "cell_type": "code",
   "execution_count": 26,
   "metadata": {},
   "outputs": [
    {
     "name": "stdout",
     "output_type": "stream",
     "text": [
      "Min freq: 0.0, Max freq: 16242.1875\n",
      "Main tone: 2398\n",
      "Three strongest formants: \n",
      "4312.5 14250.0 3000.0 "
     ]
    }
   ],
   "source": [
    "input_path = \"./input/A.wav\"\n",
    "output_path = \"./output/\"\n",
    "filename = \"A\"\n",
    "\n",
    "agent = VoiceAnalysis(filename, input_path, output_path)\n",
    "# agent.plot_spectrogram()\n",
    "agent.find_features()"
   ]
  },
  {
   "cell_type": "code",
   "execution_count": 27,
   "metadata": {},
   "outputs": [
    {
     "name": "stdout",
     "output_type": "stream",
     "text": [
      "Min freq: 0.0, Max freq: 16078.125\n",
      "Main tone: 1286\n",
      "Three strongest formants: \n",
      "7312.5 4125.0 5625.0 "
     ]
    }
   ],
   "source": [
    "input_path = \"./input/I.wav\"\n",
    "output_path = \"./output/\"\n",
    "filename = \"I\"\n",
    "\n",
    "agent = VoiceAnalysis(filename, input_path, output_path)\n",
    "# agent.plot_spectrogram()\n",
    "agent.find_features()"
   ]
  },
  {
   "cell_type": "code",
   "execution_count": 28,
   "metadata": {},
   "outputs": [
    {
     "name": "stdout",
     "output_type": "stream",
     "text": [
      "Min freq: 0.0, Max freq: 16242.1875\n",
      "Main tone: 1281\n",
      "Three strongest formants: \n",
      "15375.0 9937.5 13500.0 "
     ]
    }
   ],
   "source": [
    "input_path = \"./input/Meow.wav\"\n",
    "output_path = \"./output/\"\n",
    "filename = \"Meow\"\n",
    "\n",
    "agent = VoiceAnalysis(filename, input_path, output_path)\n",
    "# agent.plot_spectrogram()\n",
    "agent.find_features()"
   ]
  },
  {
   "cell_type": "code",
   "execution_count": null,
   "metadata": {},
   "outputs": [],
   "source": []
  }
 ],
 "metadata": {
  "kernelspec": {
   "display_name": "Python 3",
   "language": "python",
   "name": "python3"
  },
  "language_info": {
   "codemirror_mode": {
    "name": "ipython",
    "version": 3
   },
   "file_extension": ".py",
   "mimetype": "text/x-python",
   "name": "python",
   "nbconvert_exporter": "python",
   "pygments_lexer": "ipython3",
   "version": "3.9.14"
  }
 },
 "nbformat": 4,
 "nbformat_minor": 2
}
