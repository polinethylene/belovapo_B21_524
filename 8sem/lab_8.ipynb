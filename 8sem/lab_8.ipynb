{
 "cells": [
  {
   "cell_type": "code",
   "execution_count": 20,
   "metadata": {},
   "outputs": [],
   "source": [
    "import numpy as np\n",
    "from PIL import Image\n",
    "import cv2\n",
    "import os\n",
    "import matplotlib.pyplot as plt"
   ]
  },
  {
   "cell_type": "markdown",
   "metadata": {},
   "source": [
    "## Вариант 2 - ASM,  MPR,  ENT, TR"
   ]
  },
  {
   "cell_type": "code",
   "execution_count": 45,
   "metadata": {},
   "outputs": [],
   "source": [
    "class TextureAnalysis:\n",
    "    def __init__(self, input_array, output_path):\n",
    "        self.data = {}\n",
    "        self.output_path = output_path\n",
    "        self.load_img(input_array, True)\n",
    "        self.d=1 \n",
    "\n",
    "    def load_img(self, path, is_folder):\n",
    "        if is_folder:\n",
    "            for filename in os.listdir(path):\n",
    "                if filename.endswith(('.png', '.bmp')):\n",
    "                    image_path = os.path.join(path, filename)\n",
    "                    self.data[filename[:-4]] = Image.open(image_path)\n",
    "        else:\n",
    "            self.data[os.path.basename(path)] = Image.open(path)\n",
    "\n",
    "    def show_img(self):\n",
    "        for img in self.data:\n",
    "            img.show()\n",
    "\n",
    "    def grayScale(self, np_img):\n",
    "        return np.uint8(0.3 * np_img[:, :, 0] + 0.59 * np_img[:, :, 1] + 0.11 * np_img[:, :, 2])\n",
    "    \n",
    "    def calc_m(self, image):\n",
    "        m = np.zeros((256,256))\n",
    "        for x in range(self.d, image.shape[0] - self.d):\n",
    "            for y in range(self.d, image.shape[1] - self.d):\n",
    "                m[image[x - self.d, y], image[x, y]] += 1\n",
    "                m[image[x + self.d, y], image[x, y]] += 1\n",
    "                m[image[x, y - self.d], image[x, y]] += 1\n",
    "                m[image[x, y + self.d], image[x, y]] += 1 \n",
    "\n",
    "        return m\n",
    "\n",
    "    def calc_norm_m(self, image):\n",
    "        matrix = self.calc_m(image)\n",
    "        for x in range(256):\n",
    "            m = np.array(matrix[x])\n",
    "            m[np.where(m == 0)] = 1\n",
    "            matrix[x] = np.log(m)\n",
    "        matrix = matrix * 256 / np.max(matrix)\n",
    "        return matrix\n",
    "    \n",
    "    def calc_features(self, matrix):\n",
    "        asm = np.square(matrix).sum()\n",
    "        mpr = np.max(matrix)\n",
    "        ent = - np.sum(matrix * np.log2(matrix + (matrix == 0)))\n",
    "        tr = matrix.trace()\n",
    "        return [asm, mpr, ent, tr]\n",
    "    \n",
    "    def add_contrast(self,image, c):\n",
    "        table = np.array([((i / 255.0) ** c) * 255 for i in np.arange(0, 256)]).astype(\"uint8\")\n",
    "        # print(table)\n",
    "        return cv2.LUT(image, table)\n",
    "    \n",
    "    def texture_analysis(self, name, image, c):\n",
    "        print(\"Processing image \"+name)\n",
    "        np_img = np.array(image)\n",
    "        m1 = self.calc_norm_m(np_img)\n",
    "        \n",
    "        plt.figure(figsize=(10, 10))\n",
    "        plt.imshow(m1, cmap='gray')\n",
    "        filename = os.path.join(self.output_path, name+\"_cooccurrence_matrix\"+\".png\")\n",
    "        plt.savefig(filename)\n",
    "        plt.clf()\n",
    "       \n",
    "        c_image = self.add_contrast(np.array(image.convert('L')), c)\n",
    "        output_image = Image.fromarray(c_image.astype(np.uint8), \"L\")\n",
    "        output_image.save(self.output_path+\"/\"+name+\"_contrasted.png\")\n",
    "\n",
    "        m2 = self.calc_norm_m(c_image)\n",
    "        \n",
    "        plt.figure(figsize=(10, 10))\n",
    "        plt.imshow(m2, cmap='gray')\n",
    "        filename = os.path.join(self.output_path, name+\"_contrasted_cooccurrence_matrix\"+\".png\")\n",
    "        plt.savefig(filename)\n",
    "        plt.clf()\n",
    "\n",
    "        _, ax = plt.subplots(2, 1)\n",
    "        ax[0].hist(x=np_img.flatten(), bins=np.arange(0, 255))\n",
    "        ax[1].hist(x=c_image.flatten(), bins=np.arange(0, 255))\n",
    "        plt.tight_layout()\n",
    "        plt.savefig(os.path.join(self.output_path, name+\"_hist\"+\".png\"))\n",
    "\n",
    "        f1 = self.calc_features(m1)\n",
    "        f2 = self.calc_features(m2)\n",
    "        print(\"Original image\")\n",
    "        print(f\"ASM: {f1[0]}, MPR: {f1[1]}, ENT: {f1[2]}, TR: {f1[3]}\")\n",
    "        print(\"Contrasted image\")\n",
    "        print(f\"ASM: {f2[0]}, MPR: {f2[1]}, ENT: {f2[2]}, TR: {f2[3]}\")\n",
    "\n",
    "    def texture_analysis_array(self, coeffs):\n",
    "        for name, img, c in zip(self.data.keys(), self.data.values(), coeffs):\n",
    "            np_img = np.array(img)\n",
    "            gray_img = self.grayScale(np_img)\n",
    "            output_image = Image.fromarray(gray_img)\n",
    "            output_image.save(self.output_path+\"/\"+name+\"_gray\"+\".png\")\n",
    "            # c = 0.5\n",
    "            self.texture_analysis(name, output_image, c)"
   ]
  },
  {
   "cell_type": "code",
   "execution_count": 46,
   "metadata": {},
   "outputs": [
    {
     "name": "stdout",
     "output_type": "stream",
     "text": [
      "Processing image metallica\n",
      "Original image\n",
      "ASM: 97841096.99555229, MPR: 256.0, ENT: -7082748.234732514, TR: 29955.476164202355\n",
      "Contrasted image\n",
      "ASM: 87628931.85180277, MPR: 256.0, ENT: -6173443.990208484, TR: 27858.015452796404\n",
      "Processing image bricks\n",
      "Original image\n",
      "ASM: 153788889.1608485, MPR: 256.0, ENT: -8453598.535755746, TR: 52230.446332299\n",
      "Contrasted image\n",
      "ASM: 93001175.53055125, MPR: 256.0, ENT: -5310838.9976992775, TR: 38186.042238528775\n",
      "Processing image blank\n",
      "Original image\n",
      "ASM: 16140413.506745601, MPR: 256.0, ENT: -788580.1110956284, TR: 6477.847694597165\n",
      "Contrasted image\n",
      "ASM: 16140413.5067456, MPR: 256.0, ENT: -788580.1110956282, TR: 6477.847694597165\n",
      "Processing image sand\n",
      "Original image\n",
      "ASM: 1024789109.7110069, MPR: 256.0, ENT: -55017945.151044786, TR: 42296.34942224715\n",
      "Contrasted image\n",
      "ASM: 659505386.34564, MPR: 256.0, ENT: -39890581.47295682, TR: 33675.06155068053\n"
     ]
    },
    {
     "data": {
      "text/plain": [
       "<Figure size 720x720 with 0 Axes>"
      ]
     },
     "metadata": {},
     "output_type": "display_data"
    },
    {
     "data": {
      "text/plain": [
       "<Figure size 720x720 with 0 Axes>"
      ]
     },
     "metadata": {},
     "output_type": "display_data"
    },
    {
     "data": {
      "image/png": "[encoded data removed]",
      "text/plain": [
       "<Figure size 432x288 with 2 Axes>"
      ]
     },
     "metadata": {
      "needs_background": "light"
     },
     "output_type": "display_data"
    },
    {
     "data": {
      "text/plain": [
       "<Figure size 720x720 with 0 Axes>"
      ]
     },
     "metadata": {},
     "output_type": "display_data"
    },
    {
     "data": {
      "text/plain": [
       "<Figure size 720x720 with 0 Axes>"
      ]
     },
     "metadata": {},
     "output_type": "display_data"
    },
    {
     "data": {
      "image/png": "[encoded data removed]",
      "text/plain": [
       "<Figure size 432x288 with 2 Axes>"
      ]
     },
     "metadata": {
      "needs_background": "light"
     },
     "output_type": "display_data"
    },
    {
     "data": {
      "text/plain": [
       "<Figure size 720x720 with 0 Axes>"
      ]
     },
     "metadata": {},
     "output_type": "display_data"
    },
    {
     "data": {
      "text/plain": [
       "<Figure size 720x720 with 0 Axes>"
      ]
     },
     "metadata": {},
     "output_type": "display_data"
    },
    {
     "data": {
      "image/png": "[encoded data removed]",
      "text/plain": [
       "<Figure size 432x288 with 2 Axes>"
      ]
     },
     "metadata": {
      "needs_background": "light"
     },
     "output_type": "display_data"
    },
    {
     "data": {
      "text/plain": [
       "<Figure size 720x720 with 0 Axes>"
      ]
     },
     "metadata": {},
     "output_type": "display_data"
    },
    {
     "data": {
      "text/plain": [
       "<Figure size 720x720 with 0 Axes>"
      ]
     },
     "metadata": {},
     "output_type": "display_data"
    },
    {
     "data": {
      "image/png": "[encoded data removed]",
      "text/plain": [
       "<Figure size 432x288 with 2 Axes>"
      ]
     },
     "metadata": {
      "needs_background": "light"
     },
     "output_type": "display_data"
    }
   ],
   "source": [
    "input_path = \"./input\"\n",
    "output_path = \"./output\"\n",
    "\n",
    "agent = TextureAnalysis(input_path, output_path)\n",
    "coeffs = [0.7, 0.5, 2, 1.2]\n",
    "# coeffs = [1.2]\n",
    "agent.texture_analysis_array(coeffs)"
   ]
  },
  {
   "cell_type": "code",
   "execution_count": null,
   "metadata": {},
   "outputs": [],
   "source": []
  }
 ],
 "metadata": {
  "kernelspec": {
   "display_name": "Python 3",
   "language": "python",
   "name": "python3"
  },
  "language_info": {
   "codemirror_mode": {
    "name": "ipython",
    "version": 3
   },
   "file_extension": ".py",
   "mimetype": "text/x-python",
   "name": "python",
   "nbconvert_exporter": "python",
   "pygments_lexer": "ipython3",
   "version": "3.9.14"
  }
 },
 "nbformat": 4,
 "nbformat_minor": 2
}
