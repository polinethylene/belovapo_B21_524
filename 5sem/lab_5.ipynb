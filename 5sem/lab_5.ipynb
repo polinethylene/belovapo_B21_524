{
 "cells": [
  {
   "cell_type": "code",
   "execution_count": 1,
   "metadata": {},
   "outputs": [],
   "source": [
    "import numpy as np\n",
    "import cv2\n",
    "import os\n",
    "# from PIL import Image\n",
    "import matplotlib.pyplot as plt\n",
    "import csv"
   ]
  },
  {
   "cell_type": "markdown",
   "metadata": {},
   "source": [
    "Турецкие строчные буквы - abcçdefgğhiijklmnoöprsştüvyz "
   ]
  },
  {
   "cell_type": "code",
   "execution_count": 57,
   "metadata": {},
   "outputs": [],
   "source": [
    "input = \"./input\"\n",
    "for filename in os.listdir(input):\n",
    "    if filename.endswith(('.png', '.bmp')):\n",
    "        image_path = os.path.join(input, filename)\n",
    "        im = cv2.imread(image_path)\n",
    "        image = cv2.cvtColor(im, cv2.COLOR_BGR2GRAY)\n",
    "        ret, thresh = cv2.threshold(image, 100, 255, cv2.THRESH_BINARY_INV)\n",
    "        contours, hierarchy = cv2.findContours(thresh, cv2.RETR_EXTERNAL, cv2.CHAIN_APPROX_SIMPLE)\n",
    "        x, y, w, h = cv2.boundingRect(contours[0])\n",
    "\n",
    "        cropped_image = im[y:y+h, x:x+w]\n",
    "\n",
    "        cv2.imwrite(input+'/cropped_'+filename, cropped_image)"
   ]
  },
  {
   "cell_type": "code",
   "execution_count": 51,
   "metadata": {},
   "outputs": [
    {
     "data": {
      "image/png": "[encoded data removed]",
      "text/plain": [
       "<Figure size 432x288 with 1 Axes>"
      ]
     },
     "metadata": {
      "needs_background": "light"
     },
     "output_type": "display_data"
    }
   ],
   "source": [
    "x,y,w,h = cv2.boundingRect(contours[0])\n",
    "cv2.rectangle(im,(x,y),(x+w,y+h),(0,255,0),2)\n",
    "plt.imshow(im)\n",
    "plt.axis('off') \n",
    "plt.show()"
   ]
  },
  {
   "cell_type": "code",
   "execution_count": 5,
   "metadata": {},
   "outputs": [],
   "source": [
    "class FeatureExtractor:\n",
    "    def __init__(self, output):\n",
    "        self.output = output\n",
    "    \n",
    "    def show(self, im):\n",
    "        plt.imshow(im)\n",
    "        plt.axis('off') \n",
    "        plt.show()\n",
    "\n",
    "    def save_features_csv(self,features, name):\n",
    "        filename = os.path.join(self.output, name+\".csv\")\n",
    "        with open(filename, 'w') as f: \n",
    "            w = csv.DictWriter(f, features.keys())\n",
    "            w.writeheader()\n",
    "            w.writerow(features)\n",
    "\n",
    "    def save_profiles_hist(self, h_p, v_p, name):\n",
    "        x = list(range(h_p.size))\n",
    "        plt.bar(x,h_p,width=1.0)\n",
    "        filename = os.path.join(self.output, name+\"_H_profile\"+\".png\")\n",
    "        plt.savefig(filename)\n",
    "        plt.clf()\n",
    "        x = list(range(v_p.size))\n",
    "        plt.bar(x,v_p,width=1.0)\n",
    "        filename = os.path.join(self.output, name+\"_V_profile\"+\".png\")\n",
    "        plt.savefig(filename)\n",
    "        plt.clf()\n",
    "\n",
    "    def calc_raw_moment(self,img,x1=0,x2=-1,y1=0,y2=-1,p=0,q=0):\n",
    "        if y2<0:\n",
    "            y2=img.shape[0]\n",
    "        if x2<0:\n",
    "            x2=img.shape[1]\n",
    "        rm = 0\n",
    "        for y in range(y1,y2):\n",
    "            for x in range(x1,x2):\n",
    "                rm += x**p * y**q * img[x,y]\n",
    "        return rm\n",
    "\n",
    "    def calc_weight(self, img,x1,x2,y1,y2):\n",
    "        return self.calc_raw_moment(img,x1,x2,y1,y2,0,0)\n",
    "    \n",
    "    def calc_rel_weight(self, img,x1,x2,y1,y2):\n",
    "        h = x2-x1\n",
    "        w = y2-y1\n",
    "        return self.calc_raw_moment(img,x1,x2,y1,y2,0,0) / (h*w)\n",
    "    \n",
    "    def calc_center(self,img):\n",
    "        H, W = img.shape[0], img.shape[1]\n",
    "        weight = self.calc_raw_moment(img,0,H,0,W)\n",
    "        return [self.calc_raw_moment(img,0,H,0,W,1,0)/weight,\n",
    "                self.calc_raw_moment(img,0,H,0,W,0,1)/weight]\n",
    "\n",
    "    def calc_inertia_moment(self,img):\n",
    "        xc,yc = self.calc_center(img)\n",
    "        xim = 0\n",
    "        yim = 0\n",
    "        for x in range(img.shape[0]):\n",
    "            for y in range(img.shape[1]):\n",
    "                xim += (y - yc) ** 2 * img[x, y]\n",
    "                yim += (x - xc) ** 2 * img[x, y]\n",
    "        return [xim,yim]\n",
    "    \n",
    "    def calc_rel_inertia_moment(self,img):\n",
    "        im = self.calc_inertia_moment(img)\n",
    "        return im / (img.shape[0]**2 * img.shape[1]**2)\n",
    "\n",
    "    def get_features(self,image, name):\n",
    "        _, img = cv2.threshold(image, 100, 1, cv2.THRESH_BINARY_INV)\n",
    "        H, W = img.shape[0], img.shape[1]\n",
    "        areas = [(H//2) * (W//2),   (H//2)*(W-W//2), \n",
    "                 (H-H//2) * (W//2), (H-H//2) * (W-W//2)]\n",
    "        weights = [self.calc_weight(img, 0, H//2, 0, W//2), \n",
    "                   self.calc_weight(img, 0, H//2, W//2, W),\n",
    "                   self.calc_weight(img, H//2, H, 0, W//2),\n",
    "                   self.calc_weight(img, H//2, H, W//2, W),]\n",
    "        weight = self.calc_weight(img, 0, H, 0, W)\n",
    "        weights_rel = [weights[0]/areas[0],\n",
    "                       weights[1]/areas[1],\n",
    "                       weights[2]/areas[2],\n",
    "                       weights[3]/areas[3]]\n",
    "        weight_rel = weight / (H*W)\n",
    "        center = self.calc_center(img)\n",
    "        center_rel = [(center[0]-1)/(H-1), (center[1]-1)/(W-1)]\n",
    "        inertia = self.calc_inertia_moment(img)\n",
    "        inertia_rel = np.divide(inertia, H**2 * W**2)\n",
    "\n",
    "        H_profile = np.sum(img == 1, axis=1)\n",
    "        V_profile = np.sum(img == 1, axis=0)\n",
    "\n",
    "        features = {\n",
    "            \"weight\": weight,\n",
    "            \"rel_weight\": weight_rel,\n",
    "            \"weights\" : weights,\n",
    "            \"rel_weights\" : weights_rel,\n",
    "            \"center\" : center,\n",
    "            \"center_norm\" : center_rel,\n",
    "            \"inertia_hor\" : inertia[0],\n",
    "            \"inertia_vert\" : inertia[1],\n",
    "            \"inertia_hor_norm\" : inertia_rel[0],\n",
    "            \"inertia_vert_norm\" : inertia_rel[1],\n",
    "        }\n",
    "\n",
    "        self.save_features_csv(features, name)\n",
    "        self.save_profiles_hist(H_profile,V_profile,name)\n",
    "\n",
    "        # plt.imshow(image, cmap='gray')\n",
    "        # plt.plot(center[0], center[1], 'o', markersize=10)\n",
    "        # plt.axis('off') \n",
    "        # plt.show()"
   ]
  },
  {
   "cell_type": "code",
   "execution_count": 8,
   "metadata": {},
   "outputs": [
    {
     "data": {
      "text/plain": [
       "<Figure size 432x288 with 0 Axes>"
      ]
     },
     "metadata": {},
     "output_type": "display_data"
    }
   ],
   "source": [
    "im = cv2.imread('./input/,.png', cv2.IMREAD_GRAYSCALE)\n",
    "agent = FeatureExtractor(\"./output\")\n",
    "agent.get_features(im, \",\") "
   ]
  },
  {
   "cell_type": "code",
   "execution_count": 7,
   "metadata": {},
   "outputs": [
    {
     "data": {
      "text/plain": [
       "<Figure size 432x288 with 0 Axes>"
      ]
     },
     "metadata": {},
     "output_type": "display_data"
    }
   ],
   "source": [
    "path = \"./input\"\n",
    "output = \"./output\"\n",
    "\n",
    "agent = FeatureExtractor(output)\n",
    "\n",
    "for filename in os.listdir(path):\n",
    "    if filename.endswith(('.png', '.bmp')):\n",
    "        image_path = os.path.join(path, filename)\n",
    "        image = cv2.imread(image_path, cv2.IMREAD_GRAYSCALE)\n",
    "        agent.get_features(image, filename[:-4])"
   ]
  },
  {
   "cell_type": "code",
   "execution_count": 183,
   "metadata": {},
   "outputs": [
    {
     "data": {
      "text/plain": [
       "[<matplotlib.lines.Line2D at 0x13c53a940>]"
      ]
     },
     "execution_count": 183,
     "metadata": {},
     "output_type": "execute_result"
    },
    {
     "data": {
      "image/png": "[encoded data removed]",
      "text/plain": [
       "<Figure size 432x288 with 1 Axes>"
      ]
     },
     "metadata": {
      "needs_background": "light"
     },
     "output_type": "display_data"
    }
   ],
   "source": [
    "x1 = list(range(vp.size))\n",
    "plt.plot(x1,vp)"
   ]
  },
  {
   "cell_type": "code",
   "execution_count": 188,
   "metadata": {},
   "outputs": [
    {
     "data": {
      "text/plain": [
       "<BarContainer object of 369 artists>"
      ]
     },
     "execution_count": 188,
     "metadata": {},
     "output_type": "execute_result"
    },
    {
     "data": {
      "image/png": "[encoded data removed]",
      "text/plain": [
       "<Figure size 432x288 with 1 Axes>"
      ]
     },
     "metadata": {
      "needs_background": "light"
     },
     "output_type": "display_data"
    }
   ],
   "source": [
    "x1 = list(range(vp.size))\n",
    "width = 1.0\n",
    "plt.bar(x1,vp,width=width)"
   ]
  },
  {
   "cell_type": "code",
   "execution_count": 102,
   "metadata": {},
   "outputs": [
    {
     "data": {
      "image/png": "[encoded data removed]",
      "text/plain": [
       "<Figure size 288x360 with 4 Axes>"
      ]
     },
     "metadata": {
      "needs_background": "light"
     },
     "output_type": "display_data"
    }
   ],
   "source": [
    "im = cv2.imread('./input/cropped_a.png')\n",
    "\n",
    "H,W = im.shape[0],im.shape[1]\n",
    "fig = plt.figure(figsize=(4, 5))\n",
    "gs = fig.add_gridspec(2, 2) \n",
    "ax1 = fig.add_subplot(gs[0, 0])\n",
    "ax2 = fig.add_subplot(gs[0, 1])\n",
    "ax3 = fig.add_subplot(gs[1, 0])\n",
    "ax4 = fig.add_subplot(gs[1, 1])\n",
    "\n",
    "im1 = im[:H//2,:W//2]\n",
    "ax1.imshow(im1)\n",
    "ax1.axis('off') \n",
    "im2 = im[:H//2,W//2:W]\n",
    "ax2.imshow(im2)\n",
    "ax2.axis('off') \n",
    "im3 = im[H//2:H,:W//2]\n",
    "ax3.imshow(im3)\n",
    "ax3.axis('off')\n",
    "im4 = im[H//2:H,W//2:W]\n",
    "ax4.imshow(im4)\n",
    "ax4.axis('off')\n",
    "plt.show()"
   ]
  },
  {
   "cell_type": "code",
   "execution_count": null,
   "metadata": {},
   "outputs": [],
   "source": []
  }
 ],
 "metadata": {
  "kernelspec": {
   "display_name": "Python 3",
   "language": "python",
   "name": "python3"
  },
  "language_info": {
   "codemirror_mode": {
    "name": "ipython",
    "version": 3
   },
   "file_extension": ".py",
   "mimetype": "text/x-python",
   "name": "python",
   "nbconvert_exporter": "python",
   "pygments_lexer": "ipython3",
   "version": "3.9.14"
  }
 },
 "nbformat": 4,
 "nbformat_minor": 2
}
