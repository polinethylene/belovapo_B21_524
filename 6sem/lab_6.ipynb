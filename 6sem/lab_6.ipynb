{
 "cells": [
  {
   "cell_type": "code",
   "execution_count": 2,
   "metadata": {},
   "outputs": [],
   "source": [
    "import numpy as np\n",
    "import cv2\n",
    "import os\n",
    "# from PIL import Image\n",
    "import matplotlib.pyplot as plt\n",
    "import csv"
   ]
  },
  {
   "cell_type": "markdown",
   "metadata": {},
   "source": [
    "Турецкие строчные буквы - abcçdefgğhiıjklmnoöprsştüvyz "
   ]
  },
  {
   "cell_type": "code",
   "execution_count": 3,
   "metadata": {},
   "outputs": [
    {
     "data": {
      "text/plain": [
       "True"
      ]
     },
     "execution_count": 3,
     "metadata": {},
     "output_type": "execute_result"
    }
   ],
   "source": [
    "im = cv2.imread('./input/byron.png', cv2.IMREAD_GRAYSCALE)\n",
    "cv2.imwrite('./input/gray_byron_orig.bmp', im)"
   ]
  },
  {
   "cell_type": "code",
   "execution_count": 32,
   "metadata": {},
   "outputs": [],
   "source": [
    "class Segmentation:\n",
    "    def __init__(self, input_array, output_path):\n",
    "        self.data = {}\n",
    "        self.output_path = output_path\n",
    "        self.load_img(input_array, True)\n",
    "\n",
    "    def load_img(self, path, is_folder):\n",
    "        if is_folder:\n",
    "            for filename in os.listdir(path):\n",
    "                if filename.endswith(('.png', '.bmp')):\n",
    "                    image_path = os.path.join(path, filename)\n",
    "                    self.data[filename] = cv2.imread(image_path,cv2.IMREAD_GRAYSCALE) \n",
    "        else:\n",
    "            self.data[os.path.basename(path)] = cv2.imread(path,cv2.IMREAD_GRAYSCALE)\n",
    "\n",
    "    def save_profiles_hist(self, hist, name):\n",
    "        x = list(range(hist.size))\n",
    "        plt.bar(x,hist,width=1.0)\n",
    "        filename = os.path.join(self.output_path, name+\".png\")\n",
    "        plt.savefig(filename)\n",
    "        plt.clf()\n",
    "\n",
    "    def get_segments(self, image, name):\n",
    "        _, img = cv2.threshold(image, 150, 1, cv2.THRESH_BINARY_INV)\n",
    "        H, W = img.shape[0], img.shape[1]\n",
    "        print(H,W)\n",
    "\n",
    "        H_profile = np.sum(img, axis=1)\n",
    "        V_profile = np.sum(img, axis=0)\n",
    "\n",
    "        self.save_profiles_hist(H_profile,name[:-4]+\"_H_profile\")\n",
    "        self.save_profiles_hist(V_profile,name[:-4]+\"_V_profile\")\n",
    "\n",
    "        left = None\n",
    "        sym = []\n",
    "        for i in range(len(V_profile)):\n",
    "            if V_profile[i] > 0 and left is None:\n",
    "                left = i\n",
    "            elif V_profile[i] == 0 and left is not None:\n",
    "                sym.append((left, i))\n",
    "                left = None\n",
    "        if left is not None:\n",
    "            sym.append((left, len(V_profile)))\n",
    "\n",
    "        boxes = []\n",
    "        for s in sym:\n",
    "            boxes.append((s[0], 0, s[1], H))\n",
    "        \n",
    "        return boxes\n",
    "        \n",
    "    def draw_segments(self):\n",
    "        for name, img in self.data.items():\n",
    "            boxes = self.get_segments(img,name)\n",
    "            rgb_img = cv2.cvtColor(img,cv2.COLOR_GRAY2RGB)\n",
    "            for b in boxes:\n",
    "                cv2.rectangle(rgb_img,(b[0],b[1]),(b[2],b[3]),(0,255,0),1)\n",
    "            filename = os.path.join(self.output_path, name)\n",
    "            cv2.imwrite(filename, rgb_img)"
   ]
  },
  {
   "cell_type": "code",
   "execution_count": 33,
   "metadata": {},
   "outputs": [
    {
     "name": "stdout",
     "output_type": "stream",
     "text": [
      "49 1413\n"
     ]
    },
    {
     "data": {
      "text/plain": [
       "<Figure size 432x288 with 0 Axes>"
      ]
     },
     "metadata": {},
     "output_type": "display_data"
    }
   ],
   "source": [
    "agent = Segmentation(\"./input\", \"./output\")\n",
    "im = cv2.imread('./input/gray_byron.bmp', cv2.IMREAD_GRAYSCALE)\n",
    "# boxes = agent.get_segments(im, 'gray_byron.bmp') \n",
    "# np.asarray(boxes).shape\n",
    "agent.draw_segments()"
   ]
  },
  {
   "cell_type": "code",
   "execution_count": null,
   "metadata": {},
   "outputs": [],
   "source": []
  }
 ],
 "metadata": {
  "kernelspec": {
   "display_name": "Python 3",
   "language": "python",
   "name": "python3"
  },
  "language_info": {
   "codemirror_mode": {
    "name": "ipython",
    "version": 3
   },
   "file_extension": ".py",
   "mimetype": "text/x-python",
   "name": "python",
   "nbconvert_exporter": "python",
   "pygments_lexer": "ipython3",
   "version": "3.9.14"
  }
 },
 "nbformat": 4,
 "nbformat_minor": 2
}
